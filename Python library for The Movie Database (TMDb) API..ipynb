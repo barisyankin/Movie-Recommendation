{
 "cells": [
  {
   "cell_type": "code",
   "execution_count": 1,
   "metadata": {},
   "outputs": [
    {
     "name": "stdout",
     "output_type": "stream",
     "text": [
      "Requirement already satisfied: tmdbv3api in c:\\users\\baris\\anaconda3\\lib\\site-packages (1.6.2)\n",
      "Requirement already satisfied: requests in c:\\users\\baris\\anaconda3\\lib\\site-packages (from tmdbv3api) (2.22.0)\n",
      "Requirement already satisfied: certifi>=2017.4.17 in c:\\users\\baris\\anaconda3\\lib\\site-packages (from requests->tmdbv3api) (2019.11.28)\n",
      "Requirement already satisfied: chardet<3.1.0,>=3.0.2 in c:\\users\\baris\\anaconda3\\lib\\site-packages (from requests->tmdbv3api) (3.0.4)\n",
      "Requirement already satisfied: urllib3!=1.25.0,!=1.25.1,<1.26,>=1.21.1 in c:\\users\\baris\\anaconda3\\lib\\site-packages (from requests->tmdbv3api) (1.25.8)\n",
      "Requirement already satisfied: idna<2.9,>=2.5 in c:\\users\\baris\\anaconda3\\lib\\site-packages (from requests->tmdbv3api) (2.8)\n",
      "Note: you may need to restart the kernel to use updated packages.\n"
     ]
    }
   ],
   "source": [
    "pip install tmdbv3api"
   ]
  },
  {
   "cell_type": "code",
   "execution_count": 2,
   "metadata": {},
   "outputs": [],
   "source": [
    "from tmdbv3api import TMDb\n",
    "tmdb = TMDb()\n",
    "tmdb.api_key = 'e109722a441184205046c82442e22c3b'"
   ]
  },
  {
   "cell_type": "code",
   "execution_count": 3,
   "metadata": {},
   "outputs": [],
   "source": [
    "tmdb.language = 'en'\n",
    "tmdb.debug = True"
   ]
  },
  {
   "cell_type": "code",
   "execution_count": 4,
   "metadata": {},
   "outputs": [
    {
     "name": "stdout",
     "output_type": "stream",
     "text": [
      "GoodFellas\n",
      "The true story of Henry Hill, a half-Irish, half-Sicilian Brooklyn kid who is adopted by neighbourhood gangsters at an early age and climbs the ranks of a Mafia family under the guidance of Jimmy Conway.\n",
      "Casino\n",
      "In early-1970s Las Vegas, low-level mobster Sam \"Ace\" Rothstein gets tapped by his bosses to head the Tangiers Casino. At first, he's a great success in the job, but over the years, problems with his loose-cannon enforcer Nicky Santoro, his ex-hustler wife Ginger, her con-artist ex Lester Diamond and a handful of corrupt politicians put Sam in ever-increasing danger.\n",
      "Heat\n",
      "Obsessive master thief, Neil McCauley leads a top-notch crew on various daring heists throughout Los Angeles while determined detective, Vincent Hanna pursues him without rest. Each man recognizes and respects the ability and the dedication of the other even though they are aware their cat-and-mouse game may end in violence.\n",
      "Carlito's Way\n",
      "A Puerto-Rican ex-con, just released from prison, pledges to stay away from drugs and violence despite the pressure around him, and lead a better life outside NYC.\n",
      "The Godfather: Part III\n",
      "In the midst of trying to legitimize his business dealings in 1979 New York and Italy, aging mafia don, Michael Corleone seeks forgiveness for his sins while taking a young protege under his wing.\n",
      "The Untouchables\n",
      "Young Treasury Agent Elliot Ness arrives in Chicago and is determined to take down Al Capone, but it's not going to be easy because Capone has the police in his pocket. Ness meets Jimmy Malone, a veteran patrolman and probably the most honorable one on the force. He asks Malone to help him get Capone, but Malone warns him that if he goes after Capone, he is going to war.\n",
      "Donnie Brasco\n",
      "An FBI undercover agent infilitrates the mob and finds himself identifying more with the mafia life at the expense of his regular one.\n",
      "Taxi Driver\n",
      "A mentally unstable Vietnam War veteran works as a night-time taxi driver in New York City where the perceived decadence and sleaze feed his urge for violent action, attempting to save a preadolescent prostitute in the process.\n",
      "The Godfather: Part II\n",
      "In the continuing saga of the Corleone crime family, a young Vito Corleone grows up in Sicily and in 1910s New York. In the 1950s, Michael Corleone attempts to expand the family business into Las Vegas, Hollywood and Cuba.\n",
      "Apocalypse Now\n",
      "At the height of the Vietnam war, Captain Benjamin Willard is sent on a dangerous mission that, officially, \"does not exist, nor will it ever exist.\" His goal is to locate - and eliminate - a mysterious Green Beret Colonel named Walter Kurtz, who has been leading his personal army on illegal guerrilla missions into enemy territory.\n",
      "Raging Bull\n",
      "The life of boxer Jake LaMotta, whose violence and temper that led him to the top in the ring destroyed his life outside of it.\n",
      "Reservoir Dogs\n",
      "A botched robbery indicates a police informant, and the pressure mounts in the aftermath at a warehouse. Crime begets violence as the survivors -- veteran Mr. White, newcomer Mr. Orange, psychopathic parolee Mr. Blonde, bickering weasel Mr. Pink and Nice Guy Eddie -- unravel.\n",
      "Full Metal Jacket\n",
      "A pragmatic U.S. Marine observes the dehumanizing effects the U.S.-Vietnam War has on his fellow recruits from their brutal boot camp training to the bloody street fighting in Hue.\n",
      "American Gangster\n",
      "Following the death of his employer and mentor, Bumpy Johnson, Frank Lucas establishes himself as the number one importer of heroin in the Harlem district of Manhattan. He does so by buying heroin directly from the source in South East Asia and he comes up with a unique way of importing the drugs into the United States. Partly based on a true story.\n",
      "The Deer Hunter\n",
      "A group of working-class friends decide to enlist in the Army during the Vietnam War and finds it to be hellish chaos -- not the noble venture they imagined. Before they left, Steven married his pregnant girlfriend -- and Michael and Nick were in love with the same woman. But all three are different men upon their return.\n",
      "Gangs of New York\n",
      "It's 1863. America was born in the streets. Amsterdam Vallon returns to the Five Points of America to seek vengeance against the psychotic gangland kingpin, Bill the Butcher, who murdered his father years earlier. With an eager pickpocket by his side and a whole new army, Vallon fights his way to seek vengeance on the Butcher and restore peace in the area.\n",
      "L.A. Confidential\n",
      "Three detectives in the corrupt and brutal L.A. police force of the 1950s use differing methods to uncover a conspiracy behind the shotgun slayings of the patrons at an all-night diner.\n",
      "Dog Day Afternoon\n",
      "Based on the true story of would-be Brooklyn bank robbers John Wojtowicz and Salvatore Naturale. Sonny and Sal attempt a bank heist which quickly turns sour and escalates into a hostage situation and stand-off with the police. As Sonny's motives for the robbery are slowly revealed and things become more complicated, the heist turns into a media circus.\n",
      "Jackie Brown\n",
      "Jackie Brown is a flight attendant who gets caught in the middle of smuggling cash into the country for her gunrunner boss. When the cops try to use Jackie to get to her boss, she hatches a plan — with help from a bail bondsman — to keep the money for herself.\n",
      "Platoon\n",
      "As a young and naive recruit in Vietnam, Chris Taylor faces a moral crisis when confronted with the horrors of war and the duality of man.\n"
     ]
    }
   ],
   "source": [
    "from tmdbv3api import Movie\n",
    "\n",
    "movie = Movie()\n",
    "\n",
    "recommendations = movie.recommendations(movie_id=111)\n",
    "\n",
    "for recommendation in recommendations:\n",
    "    print(recommendation.title)\n",
    "    print(recommendation.overview)"
   ]
  },
  {
   "cell_type": "code",
   "execution_count": 5,
   "metadata": {},
   "outputs": [
    {
     "name": "stdout",
     "output_type": "stream",
     "text": [
      "671583\n",
      "Upside-Down Magic\n",
      "Nory and her best friend Reina enter the Sage Academy for Magical Studies, where Nory’s unconventional powers land her in a class for those with wonky, or “upside-down,” magic. Undaunted, Nory sets out to prove that that upside-down magic can be just as powerful as right-side-up.\n",
      "/xfYMQNApIIh8KhpNVtG1XRz0ZAp.jpg\n",
      "590706\n",
      "Jiu Jitsu\n",
      "Every six years, an ancient order of jiu-jitsu fighters joins forces to battle a vicious race of alien invaders. But when a celebrated war hero goes down in defeat, the fate of the planet and mankind hangs in the balance.\n",
      "/eLT8Cu357VOwBVTitkmlDEg32Fs.jpg\n",
      "602211\n",
      "Fatman\n",
      "A rowdy, unorthodox Santa Claus is fighting to save his declining business. Meanwhile, Billy, a neglected and precocious 12 year old, hires a hit man to kill Santa after receiving a lump of coal in his stocking.\n",
      "/4n8QNNdk4BOX9Dslfbz5Dy6j1HK.jpg\n",
      "454433\n",
      "Magic Camp\n",
      "Andy, at the urging of his former mentor and Magic Camp owner Roy Preston, returns to the camp of his youth hoping to reignite his career. Instead, he finds inspiration in his ragtag bunch of rookie magicians.\n",
      "/awcPLFFYjufRXd2oAAP6ZIXF9vM.jpg\n",
      "577922\n",
      "Tenet\n",
      "Armed with only one word - Tenet - and fighting for the survival of the entire world, the Protagonist journeys through a twilight world of international espionage on a mission that will unfold in something beyond real time.\n",
      "/k68nPLbIST6NP96JmTxmZijEvCA.jpg\n",
      "729648\n",
      "The Dalton Gang\n",
      "When their brother Frank is killed by an outlaw, brothers Bob Dalton, Emmett Dalton and Gray Dalton join their local sheriff's department. When they are cheated by the law, they turn to crime, robbing trains and anything else they can steal from over the course of two years in the early 1890's. Trying to out do Jesse James, they attempt to rob two banks at once in October of 1892, and things get ugly\n",
      "/6OeGqp18oZucUGziMIRNhLouZ75.jpg\n",
      "724989\n",
      "Hard Kill\n",
      "The work of billionaire tech CEO Donovan Chalmers is so valuable that he hires mercenaries to protect it, and a terrorist group kidnaps his daughter just to get it.\n",
      "/ugZW8ocsrfgI95pnQ7wrmKDxIe.jpg\n",
      "654028\n",
      "The Christmas Chronicles: Part Two\n",
      "Kate Pierce is reluctantly spending Christmas with her mom’s new boyfriend and his son Jack. But when the North Pole and Christmas are threatened to be destroyed, Kate and Jack are unexpectedly pulled into a new adventure with Santa Claus.\n",
      "/6sG0kbEvAi3RRLcGGU5h8l3qAPa.jpg\n",
      "337401\n",
      "Mulan\n",
      "When the Emperor of China issues a decree that one man per family must serve in the Imperial Chinese Army to defend the country from Huns, Hua Mulan, the eldest daughter of an honored warrior, steps in to take the place of her ailing father. She is spirited, determined and quick on her feet. Disguised as a man by the name of Hua Jun, she is tested every step of the way and must harness her innermost strength and embrace her true potential.\n",
      "/aKx1ARwG55zZ0GpRvU2WrGrCG9o.jpg\n",
      "682377\n",
      "Chick Fight\n",
      "When Anna Wyncomb is introduced to an an underground, all-female fight club in order to turn the mess of her life around, she discovers she is much more personally connected to the history of the club than she could ever imagine.\n",
      "/4ZocdxnOO6q2UbdKye2wgofLFhB.jpg\n",
      "581392\n",
      "Peninsula\n",
      "A soldier and his team battle hordes of post-apocalyptic zombies in the wastelands of the Korean Peninsula.\n",
      "/sy6DvAu72kjoseZEjocnm2ZZ09i.jpg\n",
      "524047\n",
      "Greenland\n",
      "John Garrity, his estranged wife and their young son embark on a perilous journey to find sanctuary as a planet-killing comet hurtles toward Earth. Amid terrifying accounts of cities getting levelled, the Garrity's experience the best and worst in humanity. As the countdown to the global apocalypse approaches zero, their incredible trek culminates in a desperate and last-minute flight to a possible safe haven.\n",
      "/bNo2mcvSwIvnx8K6y1euAc1TLVq.jpg\n",
      "531219\n",
      "Roald Dahl's The Witches\n",
      "In late 1967, a young orphaned boy goes to live with his loving grandma in the rural Alabama town of Demopolis. As the boy and his grandmother encounter some deceptively glamorous but thoroughly diabolical witches, she wisely whisks him away to a seaside resort. Regrettably, they arrive at precisely the same time that the world's Grand High Witch has gathered.\n",
      "/betExZlgK0l7CZ9CsCBVcwO1OjL.jpg\n",
      "671039\n",
      "Rogue City\n",
      "Caught in the crosshairs of police corruption and Marseille’s warring gangs, a loyal cop must protect his squad by taking matters into his own hands.\n",
      "/9HT9982bzgN5on1sLRmc1GMn6ZC.jpg\n",
      "741067\n",
      "Welcome to Sudden Death\n",
      "Jesse Freeman is a former special forces officer and explosives expert now working a regular job as a security guard in a state-of-the-art basketball arena. Trouble erupts when a tech-savvy cadre of terrorists kidnap the team's owner and Jesse's daughter during opening night. Facing a ticking clock and impossible odds, it's up to Jesse to not only save them but also a full house of fans in this highly charged action thriller.\n",
      "/elZ6JCzSEvFOq4gNjNeZsnRFsvj.jpg\n",
      "400160\n",
      "The SpongeBob Movie: Sponge on the Run\n",
      "When his best friend Gary is suddenly snatched away, SpongeBob takes Patrick on a madcap mission far beyond Bikini Bottom to save their pink-shelled pal.\n",
      "/jlJ8nDhMhCYJuzOw3f52CP1W8MW.jpg\n",
      "635302\n",
      "Demon Slayer the Movie: Mugen Train\n",
      "Tanjirō Kamado, joined with Inosuke Hashibira, a boy raised by boars who wears a boar's head, and Zenitsu Agatsuma, a scared boy who reveals his true power when he sleeps, boards the Infinity Train on a new mission with the Fire Hashira, Kyōjurō Rengoku, to defeat a demon who has been tormenting the people and killing the demon slayers who oppose it!\n",
      "/h8Rb9gBr48ODIwYUttZNYeMWeUU.jpg\n",
      "539885\n",
      "Ava\n",
      "A black ops assassin is forced to fight for her own survival after a job goes dangerously wrong.\n",
      "/qzA87Wf4jo1h8JMk9GilyIYvwsA.jpg\n",
      "497582\n",
      "Enola Holmes\n",
      "While searching for her missing mother, intrepid teen Enola Holmes uses her sleuthing skills to outsmart big brother Sherlock and help a runaway lord.\n",
      "/riYInlsq2kf1AWoGm80JQW5dLKp.jpg\n",
      "741074\n",
      "Once Upon a Snowman\n",
      "The previously untold origins of Olaf, the innocent and insightful, summer-loving snowman are revealed as we follow Olaf’s first steps as he comes to life and searches for his identity in the snowy mountains outside Arendelle.\n",
      "/hddzYJtfYYeMDOQVcH58n8m1W3A.jpg\n"
     ]
    }
   ],
   "source": [
    "movie = Movie()\n",
    "popular = movie.popular()\n",
    "\n",
    "for p in popular:\n",
    "    print(p.id)\n",
    "    print(p.title)\n",
    "    print(p.overview)\n",
    "    print(p.poster_path)"
   ]
  },
  {
   "cell_type": "code",
   "execution_count": 6,
   "metadata": {},
   "outputs": [
    {
     "name": "stdout",
     "output_type": "stream",
     "text": [
      "Jack Reacher: Never Go Back\n",
      "Jack Reacher must uncover the truth behind a major government conspiracy in order to clear his name. On the run as a fugitive from the law, Reacher uncovers a potential secret from his past that could change his life forever.\n",
      "28.211\n"
     ]
    }
   ],
   "source": [
    "m = movie.details(343611)\n",
    "\n",
    "print(m.title)\n",
    "print(m.overview)\n",
    "print(m.popularity)"
   ]
  },
  {
   "cell_type": "code",
   "execution_count": 7,
   "metadata": {},
   "outputs": [
    {
     "name": "stdout",
     "output_type": "stream",
     "text": [
      "618353\n",
      "Batman: Death in the Family\n",
      "Tragedy strikes the Batman's life again when Robin Jason Todd tracks down his birth mother only to run afoul of the Joker. An adaptation of the 1988 comic book storyline of the same name.\n",
      "/k8Q9ulyRE8fkvZMkAM9LPYMKctb.jpg\n",
      "7.2\n",
      "268\n",
      "Batman\n",
      "Having witnessed his parents' brutal murder as a child, millionaire philanthropist Bruce Wayne fights crime in Gotham City disguised as Batman, a costumed hero who strikes fear into the hearts of villains. But when a deformed madman who calls himself \"The Joker\" seizes control of Gotham's criminal underworld, Batman must face his most ruthless nemesis ever while protecting both his identity and his love interest, reporter Vicki Vale.\n",
      "/tDexQyu6FWltcd0VhEDK7uib42f.jpg\n",
      "7.2\n",
      "272\n",
      "Batman Begins\n",
      "Driven by tragedy, billionaire Bruce Wayne dedicates his life to uncovering and defeating the corruption that plagues his home, Gotham City.  Unable to work within the system, he instead creates a new identity, a symbol of fear for the criminal underworld - The Batman.\n",
      "/1P3ZyEq02wcTMd3iE4ebtLvncvH.jpg\n",
      "7.7\n",
      "537056\n",
      "Batman: Hush\n",
      "A mysterious new villain known only as Hush uses a gallery of villains to destroy Batman's crime-fighting career as well as Bruce Wayne's personal life, which has been further complicated by a  relationship with Selina Kyle/Catwoman.\n",
      "/eiVQORVyVuNNZHPAELuWtlXoQsD.jpg\n",
      "7.3\n",
      "415\n",
      "Batman & Robin\n",
      "Along with crime-fighting partner Robin and new recruit Batgirl, Batman battles the dual threat of frosty genius Mr. Freeze and homicidal horticulturalist Poison Ivy. Freeze plans to put Gotham City on ice, while Ivy tries to drive a wedge between the dynamic duo.\n",
      "/bsg0mrxUKyJoL4oSGP5mlhEsqp.jpg\n",
      "4.3\n",
      "364\n",
      "Batman Returns\n",
      "Having defeated the Joker, Batman now faces the Penguin—a warped and deformed individual who is intent on being accepted into Gotham society, with the help of Max Schreck, a crooked businessman, whom he coerces into helping him run for the position of Mayor of Gotham, while they both attempt to frame Batman in a different light. Batman must attempt to clear his name, all while also deciding just what must be done with the mysterious Catwoman slinking about.\n",
      "/jKBjeXM7iBBV9UkUcOXx3m7FSHY.jpg\n",
      "6.8\n",
      "414\n",
      "Batman Forever\n",
      "The Dark Knight of Gotham City confronts a dastardly duo: Two-Face and the Riddler. Formerly District Attorney Harvey Dent, Two-Face believes Batman caused the courtroom accident which left him disfigured on one side. And Edward Nygma, computer-genius and former employee of millionaire Bruce Wayne, is out to get the philanthropist; as The Riddler. Former circus acrobat Dick Grayson, his family killed by Two-Face, becomes Wayne's ward and Batman's new partner Robin.\n",
      "/k6EQ2OewzjF8TcPgok9wxpPAgXW.jpg\n",
      "5.4\n",
      "2661\n",
      "Batman\n",
      "The Dynamic Duo faces four super-villains who plan to hold the world for ransom with the help of a secret invention that instantly dehydrates people.\n",
      "/iLC5bgc1NOuXpfBxtb8xEj6tzvu.jpg\n",
      "6.3\n",
      "408648\n",
      "Batman and Harley Quinn\n",
      "Batman and Nightwing are forced to team with the Joker's sometimes-girlfriend Harley Quinn to stop a global threat brought about by Poison Ivy and Jason Woodrue, the Floronic Man.\n",
      "/uVdxoD9kn28qC8VQiVA6Uif1QHl.jpg\n",
      "6.1\n",
      "414906\n",
      "The Batman\n",
      "In his second year of crime-fighting, billionaire Bruce Wayne, also known as the Batman, takes on a mysterious serial killer known as the Riddler.\n",
      "/yYMG2uT87auGztI9aKVzBB2pHvK.jpg\n",
      "0\n",
      "321528\n",
      "Batman vs. Robin\n",
      "Damian Wayne is having a hard time coping with his father's \"no killing\" rule. Meanwhile, Gotham is going through hell with threats such as the insane Dollmaker, and the secretive Court of Owls.\n",
      "/aGp9XDXmVM5lCKHWtgBC15S7XLr.jpg\n",
      "7.2\n",
      "251519\n",
      "Son of Batman\n",
      "Batman learns that he has a violent, unruly pre-teen son with Talia al Ghul named Damian Wayne who is secretly being raised by Ra's al Ghul and the League of Assassins. When Ra's al Ghul apparently dies after a battle with Deathstroke, Batman must work to stop his long-lost son from taking revenge and guiding him to a righteous path, in addition to the chance for the pair to truly acknowledging each other as family.\n",
      "/yHx8OLSKc3VtIBB5lIe90c0fHOX.jpg\n",
      "7\n",
      "366924\n",
      "Batman: Bad Blood\n",
      "Bruce Wayne is missing. Alfred covers for him while Nightwing and Robin patrol Gotham City in his stead and a new player, Batwoman, investigates Batman's disappearance.\n",
      "/r4lVThUiXLRiVrROt6RZT49BdjN.jpg\n",
      "7.1\n",
      "382322\n",
      "Batman: The Killing Joke\n",
      "As Batman hunts for the escaped Joker, the Clown Prince of Crime attacks the Gordon family to prove a diabolical point mirroring his own fall into madness.\n",
      "/nxncAAL1FUKtQWs4uhs5jf1MVut.jpg\n",
      "6.6\n",
      "324849\n",
      "The Lego Batman Movie\n",
      "A cooler-than-ever Bruce Wayne must deal with the usual suspects as they plan to rule Gotham City, while discovering that he has accidentally adopted a teenage orphan who wishes to become his sidekick.\n",
      "/snGwr2gag4Fcgx2OGmH9otl6ofW.jpg\n",
      "7.2\n",
      "464882\n",
      "Batman vs. Two-Face\n",
      "Former Gotham City District Attorney Harvey Dent, one side of his face scarred by acid, goes on a crime spree based on the number '2'. All of his actions are decided by the flip of a defaced, two-headed silver dollar.\n",
      "/yTbj8Kcp4WFwMRdEejnn55KIsfH.jpg\n",
      "6.2\n",
      "209112\n",
      "Batman v Superman: Dawn of Justice\n",
      "Fearing the actions of a god-like Super Hero left unchecked, Gotham City’s own formidable, forceful vigilante takes on Metropolis’s most revered, modern-day savior, while the world wrestles with what sort of hero it really needs. And with Batman and Superman at war with one another, a new threat quickly arises, putting mankind in greater danger than it’s ever known before.\n",
      "/5UsK3grJvtQrtzEgqNlDljJW96w.jpg\n",
      "5.9\n",
      "148918\n",
      "Superman, Spiderman or Batman\n",
      "Aron, a 5-year-old boy, sets together with his worried father on a journey at the end of which he wishes, like the superheroes in the comic books, to save his mother suffering from a heart condition.\n",
      "/iUp85s5s7eaPbuCUNqOCeJCEVpY.jpg\n",
      "8.1\n",
      "471474\n",
      "Batman: Gotham by Gaslight\n",
      "In an alternative Victorian Age Gotham City, Batman begins his war on crime while he investigates a new series of murders by Jack the Ripper.\n",
      "/7souLi5zqQCnpZVghaXv0Wowi0y.jpg\n",
      "6.6\n",
      "602307\n",
      "Lego DC Batman: Family Matters\n",
      "Suspicion is on high after Batman, Batgirl, Robin and other DC superheroes receive mysterious invitations. However, family values must remain strong when Batman and his team encounter the villainous Red Hood, who is obsessed with destroying the Bat-family and all of Gotham City.\n",
      "/rA5bdwbzEAKfvjHRzza6Q3r0otq.jpg\n",
      "7.1\n"
     ]
    }
   ],
   "source": [
    "search = movie.search('Batman')\n",
    "\n",
    "for res in search:\n",
    "    print(res.id)\n",
    "    print(res.title)\n",
    "    print(res.overview)\n",
    "    print(res.poster_path)\n",
    "    print(res.vote_average)"
   ]
  },
  {
   "cell_type": "code",
   "execution_count": 8,
   "metadata": {},
   "outputs": [
    {
     "name": "stdout",
     "output_type": "stream",
     "text": [
      "Trump Card\n",
      "Trump Card is an expose of the socialism, corruption and gangsterization that now define the Democratic Party. Whether it is the creeping socialism of Joe Biden or the overt socialism of Bernie Sanders, the film reveals what is unique about modern socialism, who is behind it, why it’s evil, and how we can work together with President Trump to stop it.\n",
      "537 Votes\n",
      "Documentary chronicling the political machinations that led to the unprecedented, contested outcome of the 2000 presidential election, including the chaotic voter recount in Florida that ended with George W. Bush winning by a razor-thin margin.\n",
      "The Corporation\n",
      "Since the late 18th century American legal decision that the business corporation organizational model is legally a person, it has become a dominant economic, political and social force around the globe. This film takes an in-depth psychological examination of the organization model through various case studies. What the study illustrates is that in the its behaviour, this type of \"person\" typically acts like a dangerously destructive psychopath without conscience. Furthermore, we see the profound threat this psychopath has for our world and our future, but also how the people with courage, intelligence and determination can do to stop it.\n",
      "Vantage Point\n",
      "The attempted assassination of the American president is told and re-told from several different perspectives.\n",
      "The Naked Gun 2½: The Smell of Fear\n",
      "Bumbling cop Frank Drebin is out to foil the big boys in the energy industry, who intend to suppress technology that will put them out of business.\n",
      "Air Force One\n",
      "Russian terrorists conspire to hijack the aircraft with the president and his family on board. The commander in chief finds himself facing an impossible predicament: give in to the terrorists and sacrifice his family, or risk everything to uphold his principles - and the integrity of the nation.\n",
      "White House Down\n",
      "Capitol Policeman John Cale has just been denied his dream job with the Secret Service of protecting President James Sawyer. Not wanting to let down his little girl with the news, he takes her on a tour of the White House, when the complex is overtaken by a heavily armed paramilitary group. Now, with the nation's government falling into chaos and time running out, it's up to Cale to save the president, his daughter, and the country.\n",
      "Olympus Has Fallen\n",
      "When the White House (Secret Service Code: \"Olympus\") is captured by a terrorist mastermind and the President is kidnapped, disgraced former Presidential guard Mike Banning finds himself trapped within the building. As the national security team scrambles to respond, they are forced to rely on Banning's inside knowledge to help retake the White House, save the President and avert an even bigger disaster.\n",
      "Mars Attacks!\n",
      "'We come in peace' is not what those green men from Mars mean when they invade our planet, armed with irresistible weapons and a cruel sense of humor.  This star studded cast must play victim to the alien’s fun and games in this comedy homage to science fiction films of the '50s and '60s.\n",
      "Max 2: White House Hero\n",
      "Max is assigned to the White House while Butch, the secret service dog, is on maternity leave. He meets TJ, a 12 year old boy, who is the President's son. Due to his father's high profile, he is trying hard to fit in and lead a normal life. During a state visit by the Russian President and his daughter, Alexandra (Alex), TJ is asked to accompany her, during their stay. TJ befriends Alex, but when they get into trouble, Max comes to the rescue!\n",
      "Long Shot\n",
      "Fred Flarsky is a gifted and free-spirited journalist who has a knack for getting into trouble. Charlotte Field is one of the most influential women in the world -- a smart, sophisticated and accomplished politician. When Fred unexpectedly runs into Charlotte, he soon realizes that she was his former baby sitter and childhood crush. When Charlotte decides to make a run for the presidency, she impulsively hires Fred as her speechwriter -- much to the dismay of her trusted advisers.\n",
      "Vice\n",
      "George W. Bush picks Dick Cheney, the CEO of Halliburton Co., to be his Republican running mate in the 2000 presidential election. No stranger to politics, Cheney's impressive résumé includes stints as White House chief of staff, House Minority Whip and defense secretary. When Bush wins by a narrow margin, Cheney begins to use his newfound power to help reshape the country and the world.\n",
      "Irresistible\n",
      "A Democratic political consultant helps a retired Marine colonel run for mayor in a small, conservative Wisconsin town.\n",
      "Mark Felt: The Man Who Brought Down the White House\n",
      "The story of Mark Felt, who under the name \"Deep Throat\" helped journalists Bob Woodward and Carl Bernstein uncover the Watergate scandal in 1974.\n",
      "Dave\n",
      "Bill Mitchell is the philandering and distant President of the United States. Dave Kovic is a sweet-natured and caring Temp Agency operator, who by a staggering coincidence looks exactly like the President. As such, when Mitchell wants to escape an official luncheon, the Secret Service hires Dave to stand in for him. Unfortunately, Mitchell suffers a severe stroke whilst having sex with one of his aides, and Dave finds himself stuck in the role indefinitely. The corrupt and manipulative Chief of Staff, Bob Alexander, plans to use Dave to elevate himself to the White House - but unfortunately, he doesn't count on Dave enjoying himself in office, using his luck to make the country a better place, and falling in love with the beautiful First Lady...\n",
      "Nixon\n",
      "A look at President Richard M. Nixon—a man carrying the fate of the world on his shoulders while battling the self-destructive demands from within—spanning his troubled boyhood in California to the shocking Watergate scandal that would end his Presidency.\n",
      "State of Play\n",
      "Handsome, unflappable U.S. Congressman Stephen Collins is the future of his political party: an honorable appointee who serves as the chairman of a committee overseeing defense spending. All eyes are upon the rising star to be his party's contender for the upcoming presidential race. Until his research assistant/mistress is brutally murdered and buried secrets come tumbling out.\n",
      "Primary Colors\n",
      "In this adaptation of the best-selling roman à clef about Bill Clinton's 1992 run for the White House, the young and gifted Henry Burton is tapped to oversee the presidential campaign of Governor Jack Stanton. Burton is pulled into the politician's colorful world and looks on as Stanton -- who has a wandering eye that could be his downfall -- contends with his ambitious wife, Susan, and an outspoken adviser, Richard Jemmons.\n",
      "Hillary's America: The Secret History of the Democratic Party\n",
      "In Hillary's America, bestselling author and influential filmmaker Dinesh D’Souza reveals the sordid truth about Hillary Clinton and the secret history of the Democratic Party. This important and controversial film releases at a critical time leading up to the 2016 Presidential campaign and challenges the state of American politics.\n",
      "Recount\n",
      "In 2000, the election of the U.S. Presidential boiled down to a few precious votes in the state of Florida — and a recount that would add \"hanging chad\" to every American's vocabulary.\n"
     ]
    }
   ],
   "source": [
    "similar = movie.similar('133')\n",
    "\n",
    "for result in similar:\n",
    "    print(result.title)\n",
    "    print(result.overview)"
   ]
  },
  {
   "cell_type": "code",
   "execution_count": 9,
   "metadata": {},
   "outputs": [],
   "source": [
    "from tmdbv3api import TV\n"
   ]
  },
  {
   "cell_type": "code",
   "execution_count": 10,
   "metadata": {},
   "outputs": [
    {
     "name": "stdout",
     "output_type": "stream",
     "text": [
      "Breaking Bad\n",
      "When Walter White, a New Mexico chemistry teacher, is diagnosed with Stage III cancer and given a prognosis of only two years left to live. He becomes filled with a sense of fearlessness and an unrelenting desire to secure his family's financial future at any cost as he enters the dangerous world of drugs and crime.\n"
     ]
    }
   ],
   "source": [
    "tv = TV()\n",
    "show = tv.search('Breaking Bad')\n",
    "\n",
    "for result in show:\n",
    "    print(result.name)\n",
    "    print(result.overview)"
   ]
  },
  {
   "cell_type": "code",
   "execution_count": 11,
   "metadata": {},
   "outputs": [
    {
     "name": "stdout",
     "output_type": "stream",
     "text": [
      "Narcos\n",
      "A gritty chronicle of the war against Colombia's infamously violent and powerful drug cartels.\n",
      "Peaky Blinders\n",
      "A gangster family epic set in 1919 Birmingham, England and centered on a gang who sew razor blades in the peaks of their caps, and their fierce boss Tommy Shelby, who means to move up in the world.\n",
      "Weeds\n",
      "After the unexpected death of her husband, a suburban mom resorts to selling weed to support her family.\n",
      "Graceland\n",
      "In Southern California, a beachfront property was seized and turned into a residence for undercover cops. They are all top agents of the DEA, FBI, and Customs and they are living in this house unofficially known as \"Graceland\". Coming of a new graduating at the top of his class, FBI rookie, Mike Warren, could make the life of a legendary FBI agent Paul Briggs and the others, more complicated or it could reveal the truth. It is based upon actual events.\n",
      "Sons of Anarchy\n",
      "An adrenalized drama with darkly comedic undertones that explores a notorious outlaw motorcycle club’s (MC) desire to protect its livelihood while ensuring that their simple, sheltered town of Charming, California remains exactly that, charming. The MC must confront threats from drug dealers, corporate developers, and overzealous law officers. Behind the MC’s familial lifestyle and legally thriving automotive shop is a ruthless and illegal arms business driven by the seduction of money, power, and blood.\n",
      "The Shield\n",
      "The story of an inner-city Los Angeles police precinct where some of the cops aren't above breaking the rules or working against their associates to both keep the streets safe and their self-interests intact.\n",
      "El Chapo\n",
      "A look at the life of notorious drug kingpin, El Chapo, from his early days in the 1980s working for the Guadalajara Cartel, to his rise to power of during the '90s and his ultimate downfall in 2016.\n",
      "Queen of the South\n",
      "Teresa flees Mexico after her drug-runner boyfriend is murdered. Settling in Dallas, she looks to become the country's reigning drug smuggler and to avenge her lover's murder.\n",
      "Secrets at the Hotel\n",
      "The story of Secrets at the Hotel begins in 1908. Julio Olmedo and Isabel Alarcón travel on the same train to the Gran Hotel, property of the Alarcón family. Both of them ignore that their lives will take a new twist in that place, produced by love, treason, and the secrets hidden there.\n",
      "Nicky Jam: El Ganador\n",
      "Follow Reggaeton artist Nicky Jam's struggles to overcome drug addiction and rise to international success in this dramatization of his life story.\n",
      "Skins\n",
      "Irreverent comedy drama which follows the messy lives, loves, delirious highs and inevitable lows of a group of raucous teenage friends in Bristol.\n",
      "Perry Mason\n",
      "The cases of master criminal defense attorney Perry Mason and his staff who handled the most difficult of cases in the aid of the innocent.\n",
      "Snowfall\n",
      "Los Angeles. 1983. A storm is coming and it's name is crack. Set against the infancy of the crack cocaine epidemic and its ultimate radical impact on the culture as we know it, the story follows numerous characters on a violent collision course.\n",
      "Leverage\n",
      "A five-person team comprised of a thief, a grifter, a hacker, and a retrieval specialist, led by former insurance investigator Nathan Ford, use their skills to fight corporate and governmental injustices inflicted on ordinary citizens.\n",
      "The Wire\n",
      "Told from the points of view of both the Baltimore homicide and narcotics detectives and their targets, the series captures a universe in which the national war on drugs has become a permanent, self-sustaining bureaucracy, and distinctions between good and evil are routinely obliterated.\n",
      "Imposters\n",
      "Maddie, a persona shifting con-artist who is as beautiful as she is dangerous, leaves her unwitting victims tormented when they realize they have been used and robbed of everything – including their hearts. But things get complicated when her former targets, Ezra, Richard, and Jules team up to track her down.\n",
      "Ray Donovan\n",
      "Set in the sprawling mecca of the rich and famous, Ray Donovan does the dirty work for LA's top power players, and makes their problems disappear. His father's unexpected release from prison sets off a chain of events that shakes the Donovan family to its core.\n",
      "Shameless\n",
      "The story of a young group of siblings pretty much abandoned by their parents, surviving by their wits - and humor - on a rough Manchester council estate. Whilst they won't admit it, they need help and find it in Steve, a young middle class lad who falls for Fiona, the oldest sibling, and increasingly finds himself drawn to this unconventional and unique family. Anarchic family life seen through the eyes of an exceptionally bright fifteen year old, who struggles to come of age in the context of his belligerent father, closeted brother, psychotic sister and internet porn star neighbors.\n",
      "Chasing Life\n",
      "April, an aspiring journalist, is balancing her ambitious career with her family and a new office romance. In an unexpected twist of fate, April learns that she has leukemia.\n",
      "Hardcastle and McCormick\n",
      "Hardcastle and McCormick is an American action/drama television series from Stephen J. Cannell Productions, shown on ABC from 1983 through 1986. The series stars Brian Keith as Judge Milton C. Hardcastle and Daniel Hugh Kelly as ex-con and race car driver Mark \"Skid\" McCormick. The series premise was somewhat recycled from a previous Cannell series, Tenspeed and Brown Shoe.\n"
     ]
    }
   ],
   "source": [
    "similar = tv.similar(1396)\n",
    "\n",
    "for show in similar:\n",
    "    print(show.name)\n",
    "    print(show.overview)"
   ]
  },
  {
   "cell_type": "code",
   "execution_count": 12,
   "metadata": {},
   "outputs": [],
   "source": [
    "from tmdbv3api import Season"
   ]
  },
  {
   "cell_type": "code",
   "execution_count": 13,
   "metadata": {},
   "outputs": [
    {
     "name": "stdout",
     "output_type": "stream",
     "text": [
      "2008-01-20\n",
      "7\n"
     ]
    }
   ],
   "source": [
    "season = Season()\n",
    "show_season = season.details(1396, 1)\n",
    "print(show_season.air_date)\n",
    "print(len(show_season.episodes))"
   ]
  },
  {
   "cell_type": "code",
   "execution_count": 14,
   "metadata": {},
   "outputs": [],
   "source": [
    "from tmdbv3api import Discover\n",
    "# What movies are in theatres?\n",
    "\n",
    "discover = Discover()\n",
    "movie = discover.discover_movies({\n",
    "    'primary_release_date.gte': '2017-01-20',\n",
    "    'primary_release_date.lte': '2017-01-25'\n",
    "})\n",
    "\n",
    "# What are the most popular movies?\n",
    "\n",
    "movie = discover.discover_movies({\n",
    "    'sort_by': 'popularity.desc'\n",
    "})\n",
    "\n",
    "# What are the most popular kids movies?\n",
    "\n",
    "movie = discover.discover_movies({\n",
    "    'certification_country': 'US',\n",
    "    'certification.lte': 'G',\n",
    "    'sort_by': 'popularity.desc'\n",
    "})"
   ]
  },
  {
   "cell_type": "code",
   "execution_count": 15,
   "metadata": {},
   "outputs": [],
   "source": [
    "# What are the most popular TV shows?\n",
    "\n",
    "show = discover.discover_tv_shows({\n",
    "    'sort_by': 'popularity.desc'\n",
    "})\n",
    "\n",
    "# What are the best dramas?\n",
    "\n",
    "show = discover.discover_tv_shows({\n",
    "    'with_genres': 18,\n",
    "    'sort_by': 'vote_average.desc',\n",
    "    'vote_count.gte': 10\n",
    "})"
   ]
  },
  {
   "cell_type": "code",
   "execution_count": 16,
   "metadata": {},
   "outputs": [
    {
     "name": "stdout",
     "output_type": "stream",
     "text": [
      "You are logged in as barisyankin. Your account ID is 9832785.\n",
      "This session expires at: 2020-12-09 16:01:20 UTC\n",
      "Adding The Aviator (2004-12-17) to watchlist.\n",
      "Adding The Untouchables (1987-06-03) to watchlist.\n",
      "Adding Road to Perdition (2002-07-12) to watchlist.\n",
      "Adding American Gangster (2007-11-02) to watchlist.\n",
      "Adding Donnie Brasco (1997-02-27) to watchlist.\n",
      "Adding Casino (1995-11-22) to watchlist.\n",
      "Adding Carlito's Way (1993-11-10) to watchlist.\n",
      "Adding Cape Fear (1991-11-15) to watchlist.\n",
      "Adding Training Day (2001-10-05) to watchlist.\n",
      "Adding Raging Bull (1980-11-14) to watchlist.\n",
      "Adding Jackie Brown (1997-04-10) to watchlist.\n",
      "Adding There Will Be Blood (2007-12-28) to watchlist.\n",
      "Adding A History of Violence (2005-09-23) to watchlist.\n",
      "Adding L.A. Confidential (1997-09-19) to watchlist.\n",
      "Adding Mystic River (2003-10-07) to watchlist.\n",
      "Adding Traffic (2000-03-23) to watchlist.\n",
      "Adding Heat (1995-12-15) to watchlist.\n",
      "Adding Blood Diamond (2006-01-26) to watchlist.\n",
      "Adding Body of Lies (2008-10-10) to watchlist.\n",
      "Adding Eastern Promises (2007-09-14) to watchlist.\n"
     ]
    }
   ],
   "source": [
    "from tmdbv3api import Account\n",
    "from tmdbv3api import Authentication\n",
    "from tmdbv3api import TMDb, Movie\n",
    "\n",
    "USERNAME = \"barisyankin\"\n",
    "PASSWORD = \"Baris1995\"\n",
    "\n",
    "tmdb = TMDb()\n",
    "tmdb.api_key = \"e109722a441184205046c82442e22c3b\"\n",
    "\n",
    "auth = Authentication(username=USERNAME, password=PASSWORD)\n",
    "\n",
    "account = Account()\n",
    "details = account.details()\n",
    "\n",
    "print(\"You are logged in as %s. Your account ID is %s.\" % (details.username, details.id))\n",
    "print(\"This session expires at: %s\" % auth.expires_at)\n",
    "\n",
    "movie = Movie()\n",
    "\n",
    "s = movie.search(\"Gangs of New York\")\n",
    "first_result = s[0]\n",
    "recommendations = movie.recommendations(first_result.id)\n",
    "\n",
    "for recommendation in recommendations:\n",
    "    print(\"Adding %s (%s) to watchlist.\" % (recommendation.title, recommendation.release_date))\n",
    "    account.add_to_watchlist(details.id, recommendation.id, \"movie\")"
   ]
  },
  {
   "cell_type": "code",
   "execution_count": null,
   "metadata": {},
   "outputs": [],
   "source": []
  }
 ],
 "metadata": {
  "kernelspec": {
   "display_name": "Python 3",
   "language": "python",
   "name": "python3"
  },
  "language_info": {
   "codemirror_mode": {
    "name": "ipython",
    "version": 3
   },
   "file_extension": ".py",
   "mimetype": "text/x-python",
   "name": "python",
   "nbconvert_exporter": "python",
   "pygments_lexer": "ipython3",
   "version": "3.7.6"
  }
 },
 "nbformat": 4,
 "nbformat_minor": 4
}
